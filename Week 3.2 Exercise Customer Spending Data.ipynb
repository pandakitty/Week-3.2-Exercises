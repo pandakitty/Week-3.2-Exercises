{
 "cells": [
  {
   "cell_type": "code",
   "execution_count": 53,
   "id": "dd15e8bf",
   "metadata": {},
   "outputs": [],
   "source": [
    "import numpy as np\n",
    "import matplotlib.pyplot as plt  # To visualize\n",
    "import pandas as pd  # To read data\n",
    "import seaborn as sns"
   ]
  },
  {
   "cell_type": "code",
   "execution_count": 54,
   "id": "c1674f0c",
   "metadata": {},
   "outputs": [
    {
     "data": {
      "text/html": [
       "<div>\n",
       "<style scoped>\n",
       "    .dataframe tbody tr th:only-of-type {\n",
       "        vertical-align: middle;\n",
       "    }\n",
       "\n",
       "    .dataframe tbody tr th {\n",
       "        vertical-align: top;\n",
       "    }\n",
       "\n",
       "    .dataframe thead th {\n",
       "        text-align: right;\n",
       "    }\n",
       "</style>\n",
       "<table border=\"1\" class=\"dataframe\">\n",
       "  <thead>\n",
       "    <tr style=\"text-align: right;\">\n",
       "      <th></th>\n",
       "      <th>ann_spending</th>\n",
       "    </tr>\n",
       "  </thead>\n",
       "  <tbody>\n",
       "    <tr>\n",
       "      <th>0</th>\n",
       "      <td>34112</td>\n",
       "    </tr>\n",
       "    <tr>\n",
       "      <th>1</th>\n",
       "      <td>33266</td>\n",
       "    </tr>\n",
       "    <tr>\n",
       "      <th>2</th>\n",
       "      <td>36610</td>\n",
       "    </tr>\n",
       "    <tr>\n",
       "      <th>3</th>\n",
       "      <td>27381</td>\n",
       "    </tr>\n",
       "    <tr>\n",
       "      <th>4</th>\n",
       "      <td>46100</td>\n",
       "    </tr>\n",
       "    <tr>\n",
       "      <th>...</th>\n",
       "      <td>...</td>\n",
       "    </tr>\n",
       "    <tr>\n",
       "      <th>435</th>\n",
       "      <td>73302</td>\n",
       "    </tr>\n",
       "    <tr>\n",
       "      <th>436</th>\n",
       "      <td>48372</td>\n",
       "    </tr>\n",
       "    <tr>\n",
       "      <th>437</th>\n",
       "      <td>77407</td>\n",
       "    </tr>\n",
       "    <tr>\n",
       "      <th>438</th>\n",
       "      <td>17834</td>\n",
       "    </tr>\n",
       "    <tr>\n",
       "      <th>439</th>\n",
       "      <td>7589</td>\n",
       "    </tr>\n",
       "  </tbody>\n",
       "</table>\n",
       "<p>440 rows × 1 columns</p>\n",
       "</div>"
      ],
      "text/plain": [
       "     ann_spending\n",
       "0           34112\n",
       "1           33266\n",
       "2           36610\n",
       "3           27381\n",
       "4           46100\n",
       "..            ...\n",
       "435         73302\n",
       "436         48372\n",
       "437         77407\n",
       "438         17834\n",
       "439          7589\n",
       "\n",
       "[440 rows x 1 columns]"
      ]
     },
     "execution_count": 54,
     "metadata": {},
     "output_type": "execute_result"
    }
   ],
   "source": [
    "# Load the dataset using pandas csv method\n",
    "# Save the dataset as variable uspopdata\n",
    "data = pd.read_csv('customer_spending.csv')\n",
    "\n",
    "# Call the data head () to glance at the shape\n",
    "data.head(441)"
   ]
  },
  {
   "cell_type": "code",
   "execution_count": 55,
   "id": "ed1ed2bb",
   "metadata": {},
   "outputs": [],
   "source": [
    "c, e = np.histogram(x)"
   ]
  },
  {
   "cell_type": "code",
   "execution_count": 56,
   "id": "1f6bf576",
   "metadata": {},
   "outputs": [
    {
     "data": {
      "text/plain": [
       "array([150, 179,  69,  24,   7,   4,   1,   1,   1,   4], dtype=int64)"
      ]
     },
     "execution_count": 56,
     "metadata": {},
     "output_type": "execute_result"
    }
   ],
   "source": [
    "# Observe c (the number of counts data points in each of the bins)\n",
    "c"
   ]
  },
  {
   "cell_type": "code",
   "execution_count": 57,
   "id": "96f0d31f",
   "metadata": {},
   "outputs": [
    {
     "data": {
      "text/plain": [
       "array([   904. ,  20802.7,  40701.4,  60600.1,  80498.8, 100397.5,\n",
       "       120296.2, 140194.9, 160093.6, 179992.3, 199891. ])"
      ]
     },
     "execution_count": 57,
     "metadata": {},
     "output_type": "execute_result"
    }
   ],
   "source": [
    "# Observe e (the number of edges of each bin)\n",
    "e"
   ]
  },
  {
   "cell_type": "code",
   "execution_count": 58,
   "id": "91abb0ba",
   "metadata": {
    "scrolled": true
   },
   "outputs": [
    {
     "data": {
      "text/plain": [
       "11"
      ]
     },
     "execution_count": 58,
     "metadata": {},
     "output_type": "execute_result"
    }
   ],
   "source": [
    "# Observe the length of the bin edges\n",
    "len(e)"
   ]
  },
  {
   "cell_type": "code",
   "execution_count": 59,
   "id": "eec44180",
   "metadata": {
    "scrolled": true
   },
   "outputs": [],
   "source": [
    "# Calculate the center of the histogram bins from the average of consecutive bin edges bi = (e1,e2)i\n",
    "b = (e[1:]+e[:-1])/2"
   ]
  },
  {
   "cell_type": "code",
   "execution_count": 60,
   "id": "03c29fe8",
   "metadata": {},
   "outputs": [
    {
     "data": {
      "text/plain": [
       "array([ 10853.35,  30752.05,  50650.75,  70549.45,  90448.15, 110346.85,\n",
       "       130245.55, 150144.25, 170042.95, 189941.65])"
      ]
     },
     "execution_count": 60,
     "metadata": {},
     "output_type": "execute_result"
    }
   ],
   "source": [
    "# Observe bin centers\n",
    "b"
   ]
  },
  {
   "cell_type": "code",
   "execution_count": 62,
   "id": "3e1b63fa",
   "metadata": {},
   "outputs": [
    {
     "data": {
      "image/png": "[encoded data removed]",
      "text/plain": [
       "<Figure size 400x300 with 1 Axes>"
      ]
     },
     "metadata": {},
     "output_type": "display_data"
    }
   ],
   "source": [
    "plt.figure(figsize=(4,3))\n",
    "plt.hist(x)\n",
    "plt.show()"
   ]
  },
  {
   "cell_type": "code",
   "execution_count": 63,
   "id": "379f5125",
   "metadata": {
    "scrolled": true
   },
   "outputs": [
    {
     "name": "stdout",
     "output_type": "stream",
     "text": [
      "     ann_spending\n",
      "0           34112\n",
      "1           33266\n",
      "2           36610\n",
      "3           27381\n",
      "4           46100\n",
      "..            ...\n",
      "435         73302\n",
      "436         48372\n",
      "437         77407\n",
      "438         17834\n",
      "439          7589\n",
      "\n",
      "[440 rows x 1 columns]\n"
     ]
    }
   ],
   "source": [
    "print(data)"
   ]
  },
  {
   "cell_type": "code",
   "execution_count": 64,
   "id": "d06df51e",
   "metadata": {},
   "outputs": [
    {
     "name": "stdout",
     "output_type": "stream",
     "text": [
      "ann_spending    6.946546e+08\n",
      "dtype: float64\n"
     ]
    }
   ],
   "source": [
    "print(data.var())"
   ]
  },
  {
   "cell_type": "code",
   "execution_count": 72,
   "id": "9f4a773e",
   "metadata": {
    "scrolled": true
   },
   "outputs": [
    {
     "name": "stdout",
     "output_type": "stream",
     "text": [
      "ann_spending    6.930759e+08\n",
      "log_2           4.938554e-01\n",
      "dtype: float64\n"
     ]
    }
   ],
   "source": [
    "print(np.var(data[['ann_spending', 'log_2']]))\n"
   ]
  },
  {
   "cell_type": "code",
   "execution_count": 76,
   "id": "38ca37ae",
   "metadata": {
    "scrolled": false
   },
   "outputs": [
    {
     "name": "stdout",
     "output_type": "stream",
     "text": [
      "     ann_spending      log_2\n",
      "0           34112  10.437405\n",
      "1           33266  10.412291\n",
      "2           36610  10.508077\n",
      "3           27381  10.217605\n",
      "4           46100  10.738568\n",
      "..            ...        ...\n",
      "435         73302  11.202343\n",
      "436         48372  10.786676\n",
      "437         77407  11.256832\n",
      "438         17834   9.788862\n",
      "439          7589   8.934455\n",
      "\n",
      "[440 rows x 2 columns]\n",
      "ann_spending    6.930759e+08\n",
      "dtype: float64\n"
     ]
    },
    {
     "name": "stderr",
     "output_type": "stream",
     "text": [
      "C:\\Users\\ashem\\AppData\\Local\\Temp\\ipykernel_6064\\3465112876.py:2: UserWarning: \n",
      "\n",
      "`distplot` is a deprecated function and will be removed in seaborn v0.14.0.\n",
      "\n",
      "Please adapt your code to use either `displot` (a figure-level function with\n",
      "similar flexibility) or `histplot` (an axes-level function for histograms).\n",
      "\n",
      "For a guide to updating your code to use the new functions, please see\n",
      "https://gist.github.com/mwaskom/de44147ed2974457ad6372750bbe5751\n",
      "\n",
      "  sns.distplot(data['ann_spending'])\n"
     ]
    },
    {
     "data": {
      "image/png": "[encoded data removed]",
      "text/plain": [
       "<Figure size 640x480 with 1 Axes>"
      ]
     },
     "metadata": {},
     "output_type": "display_data"
    },
    {
     "data": {
      "text/plain": [
       "<Figure size 640x480 with 0 Axes>"
      ]
     },
     "metadata": {},
     "output_type": "display_data"
    }
   ],
   "source": [
    "data_log['ann_spending'] = np.log(data['ann_spending'])\n",
    "sns.distplot(data['ann_spending'])\n",
    "fig = plt.figure()\n",
    "print(data)\n",
    "print(np.var(data[['ann_spending']]))"
   ]
  },
  {
   "cell_type": "code",
   "execution_count": 78,
   "id": "3be343bf",
   "metadata": {
    "scrolled": true
   },
   "outputs": [
    {
     "name": "stdout",
     "output_type": "stream",
     "text": [
      "It may be useful to apply a log transformation to this data for modeling purposes because it helps to reduce skewness when you have skewed data or there is asymmetry in the plot of residules versus the fitted values.Due to a non-linear relationship. Doing so, transforming the responsive variable corrected the violations. \n"
     ]
    }
   ],
   "source": [
    "print('It may be useful to apply a log transformation to this data for modeling purposes because it helps to reduce skewness when you have skewed data or there is asymmetry in the plot of residules versus the fitted values.Due to a non-linear relationship. Doing so, transforming the responsive variable corrected the violations. ')"
   ]
  },
  {
   "cell_type": "code",
   "execution_count": null,
   "id": "98cdb7ad",
   "metadata": {},
   "outputs": [],
   "source": []
  }
 ],
 "metadata": {
  "kernelspec": {
   "display_name": "Python 3 (ipykernel)",
   "language": "python",
   "name": "python3"
  },
  "language_info": {
   "codemirror_mode": {
    "name": "ipython",
    "version": 3
   },
   "file_extension": ".py",
   "mimetype": "text/x-python",
   "name": "python",
   "nbconvert_exporter": "python",
   "pygments_lexer": "ipython3",
   "version": "3.11.0"
  }
 },
 "nbformat": 4,
 "nbformat_minor": 5
}
